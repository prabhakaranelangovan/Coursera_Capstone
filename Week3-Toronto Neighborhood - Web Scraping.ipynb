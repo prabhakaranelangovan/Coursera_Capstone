{
    "cells": [
        {
            "cell_type": "markdown",
            "metadata": {
                "collapsed": true
            },
            "source": "# Toronto Neighborhood - Web Scraping from Wikipedia page"
        },
        {
            "cell_type": "code",
            "execution_count": 2,
            "metadata": {},
            "outputs": [],
            "source": "#import required libraries\nimport pandas as pd\nimport numpy as np\nimport requests\nfrom bs4 import BeautifulSoup "
        },
        {
            "cell_type": "markdown",
            "metadata": {},
            "source": "## 1. Scraping table data and converting to pandas DataFrame"
        },
        {
            "cell_type": "code",
            "execution_count": 3,
            "metadata": {},
            "outputs": [],
            "source": "#defining the URL\nurl = 'https://en.wikipedia.org/wiki/List_of_postal_codes_of_Canada:_M'"
        },
        {
            "cell_type": "code",
            "execution_count": 4,
            "metadata": {},
            "outputs": [
                {
                    "data": {
                        "text/html": "<div>\n<style scoped>\n    .dataframe tbody tr th:only-of-type {\n        vertical-align: middle;\n    }\n\n    .dataframe tbody tr th {\n        vertical-align: top;\n    }\n\n    .dataframe thead th {\n        text-align: right;\n    }\n</style>\n<table border=\"1\" class=\"dataframe\">\n  <thead>\n    <tr style=\"text-align: right;\">\n      <th></th>\n      <th>Postal code</th>\n      <th>Borough</th>\n      <th>Neighborhood</th>\n    </tr>\n  </thead>\n  <tbody>\n    <tr>\n      <th>0</th>\n      <td>M1A</td>\n      <td>Not assigned</td>\n      <td>NaN</td>\n    </tr>\n    <tr>\n      <th>1</th>\n      <td>M2A</td>\n      <td>Not assigned</td>\n      <td>NaN</td>\n    </tr>\n    <tr>\n      <th>2</th>\n      <td>M3A</td>\n      <td>North York</td>\n      <td>Parkwoods</td>\n    </tr>\n    <tr>\n      <th>3</th>\n      <td>M4A</td>\n      <td>North York</td>\n      <td>Victoria Village</td>\n    </tr>\n    <tr>\n      <th>4</th>\n      <td>M5A</td>\n      <td>Downtown Toronto</td>\n      <td>Regent Park / Harbourfront</td>\n    </tr>\n  </tbody>\n</table>\n</div>",
                        "text/plain": "  Postal code           Borough                Neighborhood\n0         M1A      Not assigned                         NaN\n1         M2A      Not assigned                         NaN\n2         M3A        North York                   Parkwoods\n3         M4A        North York            Victoria Village\n4         M5A  Downtown Toronto  Regent Park / Harbourfront"
                    },
                    "execution_count": 4,
                    "metadata": {},
                    "output_type": "execute_result"
                }
            ],
            "source": "#Use BeautifulSoup library to get the table data from web-page and store as a Pandas DataFrame \nresults = requests.get(url)\nsoup = BeautifulSoup(results.content, 'lxml')\ntable = soup.find_all('table')[0]\ndf_tor = pd.read_html(str(table))[0]\ndf_tor.head()"
        },
        {
            "cell_type": "code",
            "execution_count": 5,
            "metadata": {},
            "outputs": [
                {
                    "data": {
                        "text/plain": "(180, 3)"
                    },
                    "execution_count": 5,
                    "metadata": {},
                    "output_type": "execute_result"
                }
            ],
            "source": "#Check the df shape\ndf_tor.shape"
        },
        {
            "cell_type": "markdown",
            "metadata": {},
            "source": "## 2. Drop rows that contains 'Not assigned' or NA value in 'Borough'"
        },
        {
            "cell_type": "code",
            "execution_count": 6,
            "metadata": {},
            "outputs": [
                {
                    "data": {
                        "text/plain": "(180, 3)"
                    },
                    "execution_count": 6,
                    "metadata": {},
                    "output_type": "execute_result"
                }
            ],
            "source": "#Drop rows that does not contain any data at all\ndf_tor = df_tor.dropna(how='all')\ndf_tor.shape"
        },
        {
            "cell_type": "markdown",
            "metadata": {},
            "source": "Does not contain any empty rows. Next check how many rows contain borough 'Not assigned'"
        },
        {
            "cell_type": "code",
            "execution_count": 7,
            "metadata": {},
            "outputs": [
                {
                    "data": {
                        "text/plain": "Not assigned        77\nNorth York          24\nDowntown Toronto    19\nScarborough         17\nEtobicoke           12\nCentral Toronto      9\nWest Toronto         6\nEast Toronto         5\nEast York            5\nYork                 5\nMississauga          1\nName: Borough, dtype: int64"
                    },
                    "execution_count": 7,
                    "metadata": {},
                    "output_type": "execute_result"
                }
            ],
            "source": "df_tor['Borough'].value_counts()"
        },
        {
            "cell_type": "markdown",
            "metadata": {},
            "source": "77 rows contain Not assigned value in Borough. We need to exclude these 77 rows from our df."
        },
        {
            "cell_type": "code",
            "execution_count": 8,
            "metadata": {},
            "outputs": [
                {
                    "data": {
                        "text/plain": "(103, 3)"
                    },
                    "execution_count": 8,
                    "metadata": {},
                    "output_type": "execute_result"
                }
            ],
            "source": "#Remove rows Unassigned rows\ndf_tor.drop(df_tor[df_tor['Borough'] == 'Not assigned'].index, inplace=True)\ndf_tor.shape"
        },
        {
            "cell_type": "markdown",
            "metadata": {},
            "source": "## 3. Find Null/NA/Not Assigned values in Neighborhood column and replace with respective Borough value.\nFind how many rows do not have Neighborhood data."
        },
        {
            "cell_type": "code",
            "execution_count": 9,
            "metadata": {},
            "outputs": [
                {
                    "data": {
                        "text/plain": "Postal code     0\nBorough         0\nNeighborhood    0\ndtype: int64"
                    },
                    "execution_count": 9,
                    "metadata": {},
                    "output_type": "execute_result"
                }
            ],
            "source": "#Check if any column has null values\ndf_tor.isnull().sum()"
        },
        {
            "cell_type": "code",
            "execution_count": 10,
            "metadata": {},
            "outputs": [
                {
                    "data": {
                        "text/plain": "False    103\nName: Neighborhood, dtype: int64"
                    },
                    "execution_count": 10,
                    "metadata": {},
                    "output_type": "execute_result"
                }
            ],
            "source": "#Check if any cell in Neighborhood contains the string 'Not' to find if any cell contains Not assigned value.\ndf_tor['Neighborhood'].str.contains(r'Not').value_counts()"
        },
        {
            "cell_type": "code",
            "execution_count": 11,
            "metadata": {},
            "outputs": [
                {
                    "data": {
                        "text/plain": "False    103\nName: Neighborhood, dtype: int64"
                    },
                    "execution_count": 11,
                    "metadata": {},
                    "output_type": "execute_result"
                }
            ],
            "source": "#Check if any cell in Neighborhood column contains NA values\ndf_tor['Neighborhood'].isna().value_counts()"
        },
        {
            "cell_type": "markdown",
            "metadata": {},
            "source": "All cells in Neighborhood contains a valid value, hence it is not required to copy values from 'Borough' column."
        },
        {
            "cell_type": "markdown",
            "metadata": {},
            "source": "## 4. Merge Neighborhood values for duplicate Postal code values.\nCheck if any values in Postal Code column is repeated."
        },
        {
            "cell_type": "code",
            "execution_count": 12,
            "metadata": {},
            "outputs": [
                {
                    "data": {
                        "text/plain": "True    103\nName: Postal code, dtype: int64"
                    },
                    "execution_count": 12,
                    "metadata": {},
                    "output_type": "execute_result"
                }
            ],
            "source": "#Checking if any values are repeated in Postal Code column, if repeated the value_counts method will return a value more than 1. \n#All rows returned True, indicating that no values are repeated in Postal Code column.\n\n(df_tor['Postal code'].value_counts()==1).value_counts()"
        },
        {
            "cell_type": "code",
            "execution_count": 13,
            "metadata": {},
            "outputs": [
                {
                    "data": {
                        "text/plain": "(0, 3)"
                    },
                    "execution_count": 13,
                    "metadata": {},
                    "output_type": "execute_result"
                }
            ],
            "source": "#Cross-verifying using duplicated method. Duplicated method sets True value for duplicated rows. \n#The output does not contain any rows, indicating that there are no duplicate values.\n\ndf_tor[df_tor.duplicated(['Postal code'])].shape"
        },
        {
            "cell_type": "markdown",
            "metadata": {},
            "source": "No duplicate values are present in Postal code column, hence no need to combine Neghborhood values. However on looking at the Wikipedia table found that the Postal Codes with multiple neighborhoods are already merged with a '/' in between. Example below."
        },
        {
            "cell_type": "code",
            "execution_count": 14,
            "metadata": {
                "scrolled": true
            },
            "outputs": [
                {
                    "data": {
                        "text/plain": "(55, 3)"
                    },
                    "execution_count": 14,
                    "metadata": {},
                    "output_type": "execute_result"
                }
            ],
            "source": "df_tor[df_tor['Neighborhood'].str.contains(r'/')].shape"
        },
        {
            "cell_type": "markdown",
            "metadata": {},
            "source": "55 rows contain ' / ' in Neighborhood column, indicating that merged data. Need to replace ' / ' with a comma(.) as stated in the instructions. <br> Now let's check any cells already contain comma(,)."
        },
        {
            "cell_type": "code",
            "execution_count": 15,
            "metadata": {},
            "outputs": [
                {
                    "data": {
                        "text/plain": "(1, 3)"
                    },
                    "execution_count": 15,
                    "metadata": {},
                    "output_type": "execute_result"
                }
            ],
            "source": "df_tor[df_tor['Neighborhood'].str.contains(r',')].shape"
        },
        {
            "cell_type": "markdown",
            "metadata": {},
            "source": "1 cell already has comma(,) in between different Neighborhoods."
        },
        {
            "cell_type": "code",
            "execution_count": 16,
            "metadata": {},
            "outputs": [
                {
                    "data": {
                        "text/html": "<div>\n<style scoped>\n    .dataframe tbody tr th:only-of-type {\n        vertical-align: middle;\n    }\n\n    .dataframe tbody tr th {\n        vertical-align: top;\n    }\n\n    .dataframe thead th {\n        text-align: right;\n    }\n</style>\n<table border=\"1\" class=\"dataframe\">\n  <thead>\n    <tr style=\"text-align: right;\">\n      <th></th>\n      <th>Postal code</th>\n      <th>Borough</th>\n      <th>Neighborhood</th>\n    </tr>\n  </thead>\n  <tbody>\n    <tr>\n      <th>2</th>\n      <td>M3A</td>\n      <td>North York</td>\n      <td>Parkwoods</td>\n    </tr>\n    <tr>\n      <th>3</th>\n      <td>M4A</td>\n      <td>North York</td>\n      <td>Victoria Village</td>\n    </tr>\n    <tr>\n      <th>4</th>\n      <td>M5A</td>\n      <td>Downtown Toronto</td>\n      <td>Regent Park , Harbourfront</td>\n    </tr>\n    <tr>\n      <th>5</th>\n      <td>M6A</td>\n      <td>North York</td>\n      <td>Lawrence Manor , Lawrence Heights</td>\n    </tr>\n    <tr>\n      <th>6</th>\n      <td>M7A</td>\n      <td>Downtown Toronto</td>\n      <td>Queen's Park , Ontario Provincial Government</td>\n    </tr>\n  </tbody>\n</table>\n</div>",
                        "text/plain": "  Postal code           Borough                                  Neighborhood\n2         M3A        North York                                     Parkwoods\n3         M4A        North York                              Victoria Village\n4         M5A  Downtown Toronto                    Regent Park , Harbourfront\n5         M6A        North York             Lawrence Manor , Lawrence Heights\n6         M7A  Downtown Toronto  Queen's Park , Ontario Provincial Government"
                    },
                    "execution_count": 16,
                    "metadata": {},
                    "output_type": "execute_result"
                }
            ],
            "source": "#Replace '/' with a comma(,) for values in Neighorhood column\ndf_tor['Neighborhood']= df_tor['Neighborhood'].str.replace(\"/\", \",\", case = False)\ndf_tor.head()"
        },
        {
            "cell_type": "code",
            "execution_count": 17,
            "metadata": {},
            "outputs": [
                {
                    "data": {
                        "text/plain": "(56, 3)"
                    },
                    "execution_count": 17,
                    "metadata": {},
                    "output_type": "execute_result"
                }
            ],
            "source": "#Check how many columns now contain comma(,) as the value separator\ndf_tor[df_tor['Neighborhood'].str.contains(r',')].shape"
        },
        {
            "cell_type": "markdown",
            "metadata": {},
            "source": "## Summary of DataFrame\nNow the dataframe is ready as requried and fulfills the below condition:<br>\n- Contains only 3 columns - 'Postal code', 'Borough', 'Neighborhood'\n- Does not contain 'Not assigned' values in 'Borough' or 'Neighborhood'\n- No cell has assigned 'Borough' but unassigned 'Neighborhood'.\n- Duplicate Postal codes are merged into single row with multiple 'Neighborhood' values separated using comma(,)<br>\n\nFinally will check the shape of the DataFrame.\n"
        },
        {
            "cell_type": "code",
            "execution_count": 35,
            "metadata": {},
            "outputs": [
                {
                    "data": {
                        "text/plain": "(103, 3)"
                    },
                    "execution_count": 35,
                    "metadata": {},
                    "output_type": "execute_result"
                }
            ],
            "source": "#Check the Shape of df\ndf_tor.shape"
        },
        {
            "cell_type": "code",
            "execution_count": 34,
            "metadata": {},
            "outputs": [
                {
                    "data": {
                        "text/plain": "{'file_name': 'Toronto_Neighborhood.csv',\n 'message': 'File saved to project storage.',\n 'bucket_name': 'courseracapstoneprojectprabhakara-donotdelete-pr-aka7o9ldbs0rav',\n 'asset_id': '5c1ea04c-5f97-4df3-8346-a2470879fb3e'}"
                    },
                    "execution_count": 34,
                    "metadata": {},
                    "output_type": "execute_result"
                }
            ],
            "source": "# The code was removed by Watson Studio for sharing."
        }
    ],
    "metadata": {
        "kernelspec": {
            "display_name": "Python 3.6",
            "language": "python",
            "name": "python3"
        },
        "language_info": {
            "codemirror_mode": {
                "name": "ipython",
                "version": 3
            },
            "file_extension": ".py",
            "mimetype": "text/x-python",
            "name": "python",
            "nbconvert_exporter": "python",
            "pygments_lexer": "ipython3",
            "version": "3.6.9"
        }
    },
    "nbformat": 4,
    "nbformat_minor": 1
}